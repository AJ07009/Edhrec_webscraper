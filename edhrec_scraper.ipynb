{
 "cells": [
  {
   "cell_type": "markdown",
   "metadata": {},
   "source": [
    "Main scrapy function"
   ]
  },
  {
   "cell_type": "code",
   "execution_count": 2,
   "metadata": {},
   "outputs": [],
   "source": [
    "from datetime import datetime\n",
    "from typing import Iterable\n",
    "import scrapy\n",
    "from scrapy_selenium import SeleniumRequest\n",
    "\n",
    "# Output file formatting\n",
    "class itemFormat(scrapy.Item):\n",
    "    \n",
    "    card_name = scrapy.Field()\n",
    "    percentage_in_decks = scrapy.Field()\n",
    "    img = scrapy.Field()\n",
    "    specials = scrapy.Field()\n",
    "    price_per_kg = scrapy.Field()\n",
    "    \n",
    "    \n",
    "class edhrecSpider(scrapy.Spider):\n",
    "    name = 'searcher'\n",
    "    \n",
    "    custom_settings = {\n",
    "        'FEED_FORMAT': 'json',\n",
    "        'FEED_URI': f'edhrecScrape_{datetime.now().strftime(\"%Y%m%d%H%M%S\")}.json'\n",
    "    }\n",
    "    \n",
    "    def start_requests(self) -> Iterable[scrapy.Request]:\n",
    "        # lits all urls that the spider will be crawling through\n",
    "        urls = [ 'https://edhrec.com/commanders/gimli-mournful-avenger' ] # change this link to check through any commanders you want to\n",
    "        \n",
    "        # loop through all the links listed within the urls variable\n",
    "        for url in urls:\n",
    "            yield SeleniumRequest(url = url, callback = self.parse)\n",
    "        return super().start_requests()\n",
    "\n",
    "    def parse(self, response):\n",
    "        \n",
    "        for i, quote in enumerate(response.css('div.CardView_cardWrapper__DVSFy')):\n",
    "            quote_item = itemFormat()\n",
    "            \n",
    "            # Extracting product information\n",
    "            quote_item['card_name'] = quote.css('span.Card_name__Mpa7S::text').get(i).replace(\"\\u00f3\",\"o\")\n",
    "            quote_item['percentage_in_decks'] = quote.css('div.CardLabel_label__iAM7T::text').get().replace(\"\\n\", \" || synergy \")\n",
    "            # quote_item['img'] = quote.css('a img.CardImage_border__OcVcj.shadow::attr(src)').get()\n",
    "            \n",
    "            yield quote_item"
   ]
  },
  {
   "cell_type": "markdown",
   "metadata": {},
   "source": [
    "Run the spider to scrape the site\n"
   ]
  },
  {
   "cell_type": "code",
   "execution_count": null,
   "metadata": {},
   "outputs": [],
   "source": [
    "from scrapy.crawler import CrawlerProcess\n",
    "\n",
    "process = CrawlerProcess({\n",
    "    'USER_AGENT': 'Mozilla/4.0 (compatible; MSIE 7.0; Windows NT 5.1)'\n",
    "})\n",
    "    \n",
    "process.crawl(edhrecSpider)\n",
    "process.start()"
   ]
  },
  {
   "cell_type": "markdown",
   "metadata": {},
   "source": [
    "Show final product list"
   ]
  },
  {
   "cell_type": "code",
   "execution_count": null,
   "metadata": {},
   "outputs": [],
   "source": [
    "import pandas as pd\n",
    "dfjson = pd.read_json('edhrecScrape.json')\n",
    "dfjson"
   ]
  },
  {
   "cell_type": "markdown",
   "metadata": {},
   "source": [
    "Format the data"
   ]
  },
  {
   "cell_type": "code",
   "execution_count": 5,
   "metadata": {},
   "outputs": [],
   "source": [
    "import json\n",
    "\n",
    "def sort_json_file(file_path):\n",
    "    # Read the JSON file\n",
    "    with open(file_path, 'r') as file:\n",
    "        data = json.load(file)\n",
    "    \n",
    "    # Sort items based on a specific attribute, such as 'product_name'\n",
    "    sorted_data = sorted(data, key=lambda x: x['card_name'])\n",
    "\n",
    "    # Write sorted contents back to the JSON file\n",
    "    with open(file_path, 'w') as file:\n",
    "        json.dump(sorted_data, file, indent=4)\n",
    "\n",
    "# Example usage:\n",
    "sort_json_file('edhrecScrape.json')\n"
   ]
  },
  {
   "cell_type": "markdown",
   "metadata": {},
   "source": [
    "Only get cards that show up from the user specified percentage and above"
   ]
  },
  {
   "cell_type": "code",
   "execution_count": 6,
   "metadata": {},
   "outputs": [],
   "source": [
    "whatPercentage = int(input(\"what percentage of cards do you want to see?\"))"
   ]
  },
  {
   "cell_type": "code",
   "execution_count": null,
   "metadata": {},
   "outputs": [],
   "source": [
    "import pandas as pd\n",
    "import re\n",
    "\n",
    "# Read data from the JSON file into a pandas DataFrame\n",
    "df = pd.read_json('edhrecScrape.json')\n",
    "\n",
    "# Filter the DataFrame based on the percentage condition\n",
    "filtered_df = df[df['percentage_in_decks'].str.extract(r'(\\d+)%', expand=False).astype(float) >= whatPercentage]\n",
    "\n",
    "# Output the filtered DataFrame\n",
    "filtered_df.to_json('filtered_data.json', orient='records')\n",
    "# print(filtered_df.to_dict(orient='records'))\n",
    "\n",
    "filtered_search = pd.read_json('filtered_data.json')\n",
    "filtered_search\n"
   ]
  }
 ],
 "metadata": {
  "kernelspec": {
   "display_name": "Python 3",
   "language": "python",
   "name": "python3"
  },
  "language_info": {
   "codemirror_mode": {
    "name": "ipython",
    "version": 3
   },
   "file_extension": ".py",
   "mimetype": "text/x-python",
   "name": "python",
   "nbconvert_exporter": "python",
   "pygments_lexer": "ipython3",
   "version": "3.12.0"
  }
 },
 "nbformat": 4,
 "nbformat_minor": 2
}
